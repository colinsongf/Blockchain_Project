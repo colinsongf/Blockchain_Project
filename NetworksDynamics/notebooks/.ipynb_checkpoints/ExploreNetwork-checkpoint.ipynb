{
 "cells": [
  {
   "cell_type": "code",
   "execution_count": 8,
   "metadata": {
    "collapsed": true
   },
   "outputs": [],
   "source": [
    "import numpy as np\n",
    "from matplotlib import pyplot as plt\n",
    "import pandas as pd\n",
    "import networkx as nx\n",
    "import os\n",
    "import sys\n",
    "import cjson\n",
    "import calendar, datetime\n",
    "\n",
    "dataDir = \"../../SampleData/\""
   ]
  },
  {
   "cell_type": "code",
   "execution_count": 2,
   "metadata": {
    "collapsed": false
   },
   "outputs": [
    {
     "data": {
      "text/plain": [
       "['tx.json']"
      ]
     },
     "execution_count": 2,
     "metadata": {},
     "output_type": "execute_result"
    }
   ],
   "source": [
    "os.listdir(dataDir)"
   ]
  },
  {
   "cell_type": "code",
   "execution_count": 4,
   "metadata": {
    "collapsed": false
   },
   "outputs": [],
   "source": [
    "jsonFile = open(dataDir+\"tx.json\",\"r\")\n",
    "jsonData = cjson.decode(jsonFile.readline())\n",
    "jsonFile.close()"
   ]
  },
  {
   "cell_type": "code",
   "execution_count": 39,
   "metadata": {
    "collapsed": false
   },
   "outputs": [],
   "source": [
    "\n",
    "\n",
    "# Convert a unix time u to a datetime object d, and vice versa\n",
    "def dt(u): return datetime.datetime.utcfromtimestamp(u)\n",
    "def ut(d): return calendar.timegm(d.timetuple())\n",
    "\n",
    "def generateNetworkxGraph(jsonData):\n",
    "    \"\"\"\n",
    "    \"\"\"\n",
    "    transactionsGraph = nx.Graph()\n",
    "    for transaction in jsonData:\n",
    "        for senders in transaction['senders']:\n",
    "            for receiver in transaction['receiver']:\n",
    "                transactionsGraph.add_edge(senders[\"addr\"],\n",
    "                                           receiver['addr'],\n",
    "                                           weight=receiver[\"value\"])\n",
    "                \n",
    "    return transactionsGraph\n",
    "\n",
    "def generateNetworkxGraphStamp(jsonData,date0,datef):\n",
    "    \"\"\"\n",
    "    \"\"\"\n",
    "    transactionsGraph = nx.Graph()\n",
    "    for transaction in jsonData:\n",
    "        transactionDate = dt(transaction[\"time\"])\n",
    "        if transactionDate < datef and transactionDate > date0:\n",
    "            for senders in transaction['senders']:\n",
    "                for receiver in transaction['receiver']:\n",
    "                    transactionsGraph.add_edge(senders[\"addr\"],\n",
    "                                               receiver['addr'],\n",
    "                                               weight=receiver[\"value\"])\n",
    "    return transactionsGraph\n",
    "\n",
    "def obtainDateTimes(jsonData):\n",
    "    \"\"\"\n",
    "    \"\"\"\n",
    "    dateTimes = []\n",
    "    for transaction in jsonData:\n",
    "        transactionDate = dt(transaction[\"time\"])\n",
    "        dateTimes.append(transactionDate)\n",
    "    return dateTimes"
   ]
  },
  {
   "cell_type": "code",
   "execution_count": null,
   "metadata": {
    "collapsed": false
   },
   "outputs": [],
   "source": [
    "transactionsGraph = generateNetworkxGraph(jsonData)"
   ]
  },
  {
   "cell_type": "code",
   "execution_count": 40,
   "metadata": {
    "collapsed": true
   },
   "outputs": [],
   "source": [
    "transactionDates = obtainDateTimes(jsonData)"
   ]
  },
  {
   "cell_type": "code",
   "execution_count": 42,
   "metadata": {
    "collapsed": false
   },
   "outputs": [
    {
     "data": {
      "text/plain": [
       "datetime.datetime(2013, 12, 12, 20, 3, 57)"
      ]
     },
     "execution_count": 42,
     "metadata": {},
     "output_type": "execute_result"
    }
   ],
   "source": [
    "max(transactionDates)"
   ]
  },
  {
   "cell_type": "code",
   "execution_count": 64,
   "metadata": {
    "collapsed": false
   },
   "outputs": [
    {
     "data": {
      "text/plain": [
       "datetime.datetime(2013, 12, 9, 14, 58, 3)"
      ]
     },
     "execution_count": 64,
     "metadata": {},
     "output_type": "execute_result"
    }
   ],
   "source": [
    "min(transactionDates)"
   ]
  },
  {
   "cell_type": "code",
   "execution_count": 94,
   "metadata": {
    "collapsed": false
   },
   "outputs": [
    {
     "data": {
      "text/plain": [
       "33877"
      ]
     },
     "execution_count": 94,
     "metadata": {},
     "output_type": "execute_result"
    }
   ],
   "source": [
    "date0 = datetime.datetime(2013, 12, 1, 20)\n",
    "datef = datetime.datetime(2013, 12, 12, 22)\n",
    "transactionsGraph = generateNetworkxGraphStamp(jsonData,date0,datef)\n",
    "transactionsGraph.number_of_nodes()"
   ]
  }
 ],
 "metadata": {
  "kernelspec": {
   "display_name": "Python 2",
   "language": "python",
   "name": "python2"
  },
  "language_info": {
   "codemirror_mode": {
    "name": "ipython",
    "version": 2
   },
   "file_extension": ".py",
   "mimetype": "text/x-python",
   "name": "python",
   "nbconvert_exporter": "python",
   "pygments_lexer": "ipython2",
   "version": "2.7.12"
  }
 },
 "nbformat": 4,
 "nbformat_minor": 0
}
